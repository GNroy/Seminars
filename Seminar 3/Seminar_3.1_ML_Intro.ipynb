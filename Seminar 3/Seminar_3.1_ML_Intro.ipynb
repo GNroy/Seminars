{
 "cells": [
  {
   "cell_type": "markdown",
   "metadata": {},
   "source": [
    " # AI Community @ Семинар  № 3\n",
    " ## Введение в машинное обучение\n",
    "Суть: Мы знаем какую-то характеристику объектов, надо научиться узнавать эту же характеристику для похожих объектов  \n",
    " ### Строгая формулировка\n",
    " Дано: множество объектов $O$   \n",
    " Каждый объект имеет множество определяющих переменных (known characteristics) $x \\in X$ и определяемых переменных (predicted characteristics) $y \\in Y$\n",
    " \n",
    " $o \\in O \\to (x,y)$\n",
    " \n",
    " Задача: найти функцию, наиболее точно приближающую $X \\to Y$\n",
    " \n",
    " Классификация - если $Y$ конечно  \n",
    " Регрессия - если $Y = \\mathbb{R} $ \n",
    " \n",
    " ### Supervised и unsupervised learning\n",
    " Supervised - есть какой-то набор данных, для которого известны и $x$, и $y$  \n",
    " Unsupervised - $y$ неизвестно для всех данных\n",
    " \n",
    " #### Примеры:\n",
    " Superised:\n",
    " <img src=\"./data/Regression_Analysis_Linear.gif\" alt=\"Drawing\" style=\"height: 400px;\"/>\n",
    " \n",
    " Unsupervised\n",
    " ![Clustering](./data/xclara-clusters-colour.png)\n",
    " \n",
    " ### Стандартная процедура для supervised learning\n",
    " 1. Разбить выборку на train и test\n",
    " 2. Выбрать метод\n",
    " 3. Обучить его на train\n",
    " 4. Посмотреть, что он предсказывает для test\n",
    " 5. Сравнить с истинными значениями для test"
   ]
  },
  {
   "cell_type": "markdown",
   "metadata": {},
   "source": [
    "Шаблон алгоритма:"
   ]
  },
  {
   "cell_type": "markdown",
   "metadata": {},
   "source": [
    "    train_x, test_x, train_y, test_y = extract(data)\n",
    "    predictor = MySuperPredictor()\n",
    "    predictor.fit(train_x, train_y)\n",
    "    preds = predictor.predict(test_x)\n",
    "    score = compare(preds, test_y)"
   ]
  },
  {
   "cell_type": "markdown",
   "metadata": {},
   "source": [
    " ### Case study\n",
    " Распознавание рукописных цифр\n",
    " \n",
    " http://yann.lecun.com/exdb/mnist/"
   ]
  },
  {
   "cell_type": "code",
   "execution_count": 1,
   "metadata": {
    "collapsed": true
   },
   "outputs": [],
   "source": [
    "import matplotlib.pyplot as plt\n",
    "%matplotlib inline\n",
    "from sklearn import datasets\n",
    "import numpy as np"
   ]
  },
  {
   "cell_type": "code",
   "execution_count": 2,
   "metadata": {
    "collapsed": true
   },
   "outputs": [],
   "source": [
    "digits = datasets.load_digits()"
   ]
  },
  {
   "cell_type": "code",
   "execution_count": 6,
   "metadata": {
    "collapsed": true
   },
   "outputs": [],
   "source": [
    "def show_digit(digit):\n",
    "    \"\"\"\n",
    "    Displays sample from MNIST in human-readable format\n",
    "    \n",
    "    Arguments:\n",
    "    digit - numpy 1-d array of size 64\n",
    "    \"\"\"\n",
    "    f = plt.figure(figsize=(7, 1))\n",
    "    ax = f.add_subplot(111)\n",
    "    ax.matshow(digit.reshape(8, 8))\n",
    "    ax.axis('off')\n",
    "    plt.show()"
   ]
  },
  {
   "cell_type": "code",
   "execution_count": 4,
   "metadata": {
    "collapsed": false
   },
   "outputs": [
    {
     "name": "stdout",
     "output_type": "stream",
     "text": [
      "x = [  0.   0.   5.  13.   9.   1.   0.   0.   0.   0.  13.  15.  10.  15.   5.\n",
      "   0.   0.   3.  15.   2.   0.  11.   8.   0.   0.   4.  12.   0.   0.   8.\n",
      "   8.   0.   0.   5.   8.   0.   0.   9.   8.   0.   0.   4.  11.   0.   1.\n",
      "  12.   7.   0.   0.   2.  14.   5.  10.  12.   0.   0.   0.   0.   6.  13.\n",
      "  10.   0.   0.   0.]\n",
      "y = 0\n"
     ]
    },
    {
     "data": {
      "image/png": "[encoded data removed]",
      "text/plain": [
       "<matplotlib.figure.Figure at 0x8b9bba8>"
      ]
     },
     "metadata": {},
     "output_type": "display_data"
    },
    {
     "name": "stdout",
     "output_type": "stream",
     "text": [
      "----------------------------\n",
      "x = [  0.   0.   0.  12.  13.   5.   0.   0.   0.   0.   0.  11.  16.   9.   0.\n",
      "   0.   0.   0.   3.  15.  16.   6.   0.   0.   0.   7.  15.  16.  16.   2.\n",
      "   0.   0.   0.   0.   1.  16.  16.   3.   0.   0.   0.   0.   1.  16.  16.\n",
      "   6.   0.   0.   0.   0.   1.  16.  16.   6.   0.   0.   0.   0.   0.  11.\n",
      "  16.  10.   0.   0.]\n",
      "y = 1\n"
     ]
    },
    {
     "data": {
      "image/png": "[encoded data removed]",
      "text/plain": [
       "<matplotlib.figure.Figure at 0x8e74d30>"
      ]
     },
     "metadata": {},
     "output_type": "display_data"
    },
    {
     "name": "stdout",
     "output_type": "stream",
     "text": [
      "----------------------------\n",
      "x = [  0.   0.   0.   4.  15.  12.   0.   0.   0.   0.   3.  16.  15.  14.   0.\n",
      "   0.   0.   0.   8.  13.   8.  16.   0.   0.   0.   0.   1.   6.  15.  11.\n",
      "   0.   0.   0.   1.   8.  13.  15.   1.   0.   0.   0.   9.  16.  16.   5.\n",
      "   0.   0.   0.   0.   3.  13.  16.  16.  11.   5.   0.   0.   0.   0.   3.\n",
      "  11.  16.   9.   0.]\n",
      "y = 2\n"
     ]
    },
    {
     "data": {
      "image/png": "[encoded data removed]",
      "text/plain": [
       "<matplotlib.figure.Figure at 0x8c6a2b0>"
      ]
     },
     "metadata": {},
     "output_type": "display_data"
    },
    {
     "name": "stdout",
     "output_type": "stream",
     "text": [
      "----------------------------\n",
      "x = [  0.   0.   7.  15.  13.   1.   0.   0.   0.   8.  13.   6.  15.   4.   0.\n",
      "   0.   0.   2.   1.  13.  13.   0.   0.   0.   0.   0.   2.  15.  11.   1.\n",
      "   0.   0.   0.   0.   0.   1.  12.  12.   1.   0.   0.   0.   0.   0.   1.\n",
      "  10.   8.   0.   0.   0.   8.   4.   5.  14.   9.   0.   0.   0.   7.  13.\n",
      "  13.   9.   0.   0.]\n",
      "y = 3\n"
     ]
    },
    {
     "data": {
      "image/png": "[encoded data removed]",
      "text/plain": [
       "<matplotlib.figure.Figure at 0x8d42048>"
      ]
     },
     "metadata": {},
     "output_type": "display_data"
    },
    {
     "name": "stdout",
     "output_type": "stream",
     "text": [
      "----------------------------\n",
      "x = [  0.   0.   0.   1.  11.   0.   0.   0.   0.   0.   0.   7.   8.   0.   0.\n",
      "   0.   0.   0.   1.  13.   6.   2.   2.   0.   0.   0.   7.  15.   0.   9.\n",
      "   8.   0.   0.   5.  16.  10.   0.  16.   6.   0.   0.   4.  15.  16.  13.\n",
      "  16.   1.   0.   0.   0.   0.   3.  15.  10.   0.   0.   0.   0.   0.   2.\n",
      "  16.   4.   0.   0.]\n",
      "y = 4\n"
     ]
    },
    {
     "data": {
      "image/png": "[encoded data removed]",
      "text/plain": [
       "<matplotlib.figure.Figure at 0x8dc7c50>"
      ]
     },
     "metadata": {},
     "output_type": "display_data"
    },
    {
     "name": "stdout",
     "output_type": "stream",
     "text": [
      "----------------------------\n"
     ]
    }
   ],
   "source": [
    "for i in range(5):\n",
    "    print('x =', digits.data[i])\n",
    "    print('y =', digits.target[ i])\n",
    "    show_digit(digits.data[i])\n",
    "    print('----------------------------')"
   ]
  },
  {
   "cell_type": "markdown",
   "metadata": {},
   "source": [
    "Разделение выборки на train и test"
   ]
  },
  {
   "cell_type": "code",
   "execution_count": 12,
   "metadata": {
    "collapsed": false
   },
   "outputs": [
    {
     "name": "stdout",
     "output_type": "stream",
     "text": [
      "X_train: (1437, 64)\n",
      "X_test: (360, 64)\n",
      "y_train: (1437,)\n",
      "y_test: (360,)\n"
     ]
    }
   ],
   "source": [
    "from sklearn.model_selection import train_test_split\n",
    "X_train, X_test, y_train, y_test = train_test_split(digits.data, digits.target, test_size=0.2)\n",
    "print('X_train:', X_train.shape)\n",
    "print('X_test:', X_test.shape)\n",
    "print('y_train:', y_train.shape)\n",
    "print('y_test:', y_test.shape)"
   ]
  },
  {
   "cell_type": "markdown",
   "metadata": {},
   "source": [
    " ### Линейная регрессия\n",
    "  <img src=\"./data/Regression_Analysis_Linear.gif\" alt=\"Drawing\" style=\"height: 300px;\"/>\n",
    "  Данные аппроксимируются линией таким образом, чтобы среднее расстояние от точки до линии было наименьшим.  \n",
    "  Почитать ещё: https://habrahabr.ru/company/ods/blog/323890/"
   ]
  },
  {
   "cell_type": "code",
   "execution_count": 13,
   "metadata": {
    "collapsed": false,
    "scrolled": true
   },
   "outputs": [
    {
     "name": "stdout",
     "output_type": "stream",
     "text": [
      "[  8.02076372   2.56389072   0.7954459    4.85900655   4.25941905\n",
      "   4.22080046   2.51945587  -0.60821469   3.21628633   6.92874562\n",
      "   2.94499769   7.60539551   3.98312294   7.35248232   4.74224715\n",
      "   0.02122753   4.80876786   3.58689459   2.52249078   1.92801542\n",
      "   0.35735464   7.84083194  -0.82323554   7.97083825  10.34386369\n",
      "   4.52438675   5.29698288   1.50273981   4.33658361   6.29001478\n",
      "   4.05084828   3.80867075   5.5383291    6.74085438   2.73550092\n",
      "   5.16385989   5.39075249   4.29336768   4.21206858   1.31207157\n",
      "   0.1045323    4.25814729   6.35505036   3.28772323   7.15465782\n",
      "   7.96682696   5.64128611   2.74953843   7.66833575   7.55876371\n",
      "   7.55295691  10.39951522   1.45706096   5.72747146   7.04970305\n",
      "   7.05051123   5.96516617   3.36850922   5.6309591    5.45690967\n",
      "   2.03651152   5.03226505   3.32859034   7.14922667   4.86975282\n",
      "   2.19846204   7.4348659    5.89723616   5.52844755   3.82150544\n",
      "   6.81052424   6.37186858   8.25350863   7.83602986   4.98098587\n",
      "   5.63507091   5.1879513    5.09343567   5.88567425   3.74206119\n",
      "   1.32801465   6.12383342   7.3402951    3.06195679   6.50807689\n",
      "   1.07219962   5.71357079   4.18595646   6.12240657   6.62577724\n",
      "   6.36266013   2.49402981   4.38806695   6.11309544   3.60413593\n",
      "   6.37384759   0.61770787   7.31577138   4.65191815   3.55862303\n",
      "   4.45079567   7.76323201   2.4813524    3.12925174   0.59742746\n",
      "   1.54474231   7.833694     3.5364721    8.06467981   2.69147122\n",
      "   6.24285549   0.79556928   6.94928027   7.85523931   1.9171661\n",
      "   7.11357475   8.39194138   6.99793329   7.06250595   7.30542301\n",
      "   4.52801252   1.05815524   5.76989008   4.43426701   7.4951907\n",
      "   4.67126668   4.60981788   2.15425449   3.91043432   7.68194816\n",
      "   2.70096641   2.96079002   1.70781422   3.24753245   0.42472884\n",
      "   7.2394247    6.28066483   7.08318161   8.12368669   6.13317635\n",
      "   3.6054343    6.68361367   0.91079544   5.74549466   6.10935816\n",
      "   3.55467456   7.35968423   3.23288424   0.37598829   5.47436316\n",
      "   2.71033883   5.71536497   5.71689563   6.59039396   8.35776894\n",
      "   3.69334809   5.93144345   6.65514994   3.60231173   3.38347389\n",
      "   3.41394576   6.17538197   3.47430199   5.19550373   6.70133991\n",
      "   0.46201627   4.01080191   5.81961444  -0.22243119   3.4071843\n",
      "   7.16580677   0.62270951   2.56257874   1.83575382   4.5163041\n",
      "   1.10203707   4.69781111   2.87802858   6.37368354   4.04169928\n",
      "   4.16793871   6.48628424   4.8419213    3.44582799   3.4681932\n",
      "   5.70328794   6.26958833   5.32063316   8.80897322   2.01679435\n",
      "   6.80287342   5.72828072   5.6422042    4.40717584   7.00115683\n",
      "   0.03084959   5.52201494   3.97747453   2.33348663   4.19242351\n",
      "   4.1756298    6.1681622    3.00184913   7.1319951    5.98062301\n",
      "   7.76955242   8.51337955   5.75362285   2.58584139   5.63117369\n",
      "   6.11443682   3.24478718   6.48077369   2.66185176   2.63030673\n",
      "   2.03209841   7.89062435   6.49836172   2.2041644    3.05636345\n",
      "   6.50709856   6.01982374   3.97649579   4.6016338    3.02320258\n",
      "   4.13935147   2.09736585   8.20335185   2.68889636   1.78318782\n",
      "   5.01781477   2.16616235   4.65550332   5.01165764   5.05607488\n",
      "   4.87157655   3.07924758   7.74935824   3.2835294    4.79983872\n",
      "   3.09372215   8.46243356   7.15847446   7.55519957   6.66150287\n",
      "   8.71548101   1.41427787   6.94383567  -2.31369626   4.16464037\n",
      "   4.46181298   0.63731168   0.46685667   3.48857691   6.31633051\n",
      "   0.99601888   6.37287036   6.45256338   5.59489901   4.39120943\n",
      "   3.78787109   6.5148202    3.63568976   6.01688232   7.81663898\n",
      "   4.59071648   6.65699226   5.27185028   4.11444306   1.94534529\n",
      "   7.97797834   4.81888277   2.36650132   6.09606799   7.14966687\n",
      "   5.20595291   6.86482489   4.86296029   0.23877142   2.73754548\n",
      "   4.66538621   6.18592998   0.18243016   5.37397305   4.73229312\n",
      "   2.77361861   8.01212307   6.26185511   1.44225327   4.94106264\n",
      "   5.79993387   3.00173396   5.90752112   4.1327337    0.67147474\n",
      "   6.19296142   0.72090433   6.64732971   5.66973332   4.05582701\n",
      "   1.4343619    2.97116145   8.6025122    3.42091239   5.23489534\n",
      "   3.29913977   5.41367406   2.23856271   4.12791598   5.34458046\n",
      "   5.1480964    5.89776501   5.37303023   5.60215994   6.78854784\n",
      "   5.04057461   5.17117771   6.56625301   3.48230027   8.13042961\n",
      "   8.22698385   4.89914131   2.984513     3.03065257   1.15542614\n",
      "   3.21427673   6.5187596    4.4880862    4.6388068    4.36879309\n",
      "   6.44966293   1.57408758   4.46128134   4.42179752   2.4600211\n",
      "   6.8091996    6.69890525   5.21112406   5.8584222    1.53277428\n",
      "   4.18260984   3.94952481   7.02027489   4.86043996   5.11585136\n",
      "   4.26651928   7.26992385   7.52479184   5.33097008   4.44830641\n",
      "   5.27676529   2.01617044   0.51911241   8.86805662   5.12257432\n",
      "   2.08741095   3.05572988   5.69291704   0.830339     1.52991763]\n"
     ]
    }
   ],
   "source": [
    "from sklearn.linear_model import LinearRegression\n",
    "predictor = LinearRegression()\n",
    "predictor.fit(X_train, y_train)\n",
    "y_pred = predictor.predict(X_test)\n",
    "print(y_pred)"
   ]
  },
  {
   "cell_type": "markdown",
   "metadata": {},
   "source": [
    "Оцениваем, насколько хороши предсказания"
   ]
  },
  {
   "cell_type": "code",
   "execution_count": 14,
   "metadata": {
    "collapsed": false
   },
   "outputs": [
    {
     "data": {
      "text/plain": [
       "0.2388888888888889"
      ]
     },
     "execution_count": 14,
     "metadata": {},
     "output_type": "execute_result"
    }
   ],
   "source": [
    "from sklearn.metrics import accuracy_score\n",
    "y_pred = np.round(y_pred)\n",
    "accuracy_score(y_test, y_pred)"
   ]
  },
  {
   "cell_type": "markdown",
   "metadata": {},
   "source": [
    "Посмотрим пример, где предсказано правильно, и где неправильно"
   ]
  },
  {
   "cell_type": "code",
   "execution_count": 15,
   "metadata": {
    "collapsed": false
   },
   "outputs": [
    {
     "name": "stdout",
     "output_type": "stream",
     "text": [
      "true: 1\n",
      "predicted: 1.0\n"
     ]
    },
    {
     "data": {
      "image/png": "[encoded data removed]",
      "text/plain": [
       "<matplotlib.figure.Figure at 0xa25e668>"
      ]
     },
     "metadata": {},
     "output_type": "display_data"
    },
    {
     "name": "stdout",
     "output_type": "stream",
     "text": [
      "true: 7\n",
      "predicted: 8.0\n"
     ]
    },
    {
     "data": {
      "image/png": "[encoded data removed]",
      "text/plain": [
       "<matplotlib.figure.Figure at 0x8c4af28>"
      ]
     },
     "metadata": {},
     "output_type": "display_data"
    }
   ],
   "source": [
    "true_sample = X_test[y_test == y_pred][0]\n",
    "print('true:', y_test[y_test == y_pred][0])\n",
    "print('predicted:', y_pred[y_test == y_pred][0])\n",
    "show_digit(true_sample)\n",
    "\n",
    "false_sample = X_test[y_test != y_pred][0]\n",
    "print('true:', y_test[y_test != y_pred][0])\n",
    "print('predicted:', y_pred[y_test != y_pred][0])\n",
    "show_digit(false_sample)"
   ]
  },
  {
   "cell_type": "markdown",
   "metadata": {},
   "source": [
    " ### Логистическая регрессия\n",
    "  <img src=\"./data/LogReg.png\" alt=\"Drawing\" style=\"height: 300px;\"/>\n",
    "  То же самое, что и линейная регрессия, но аппроксимация ведётся не линией $y = \\theta_0 + \\theta_1x_1 + ... + \\theta_nx_n$, а функцией $$y = \\frac{1}{1+e^{-z}}$$ Где $z = \\theta_0 + \\theta_1x_1 + ... + \\theta_nx_n$"
   ]
  },
  {
   "cell_type": "code",
   "execution_count": 16,
   "metadata": {
    "collapsed": false
   },
   "outputs": [
    {
     "name": "stdout",
     "output_type": "stream",
     "text": [
      "[7 5 1 5 5 4 5 1 2 7 2 5 5 6 9 2 1 7 2 3 0 8 0 8 8 5 5 1 6 9 5 1 1 5 1 8 7\n",
      " 3 3 0 0 2 9 6 7 7 5 4 1 5 8 8 4 9 7 9 3 9 6 4 2 4 4 9 5 1 7 9 6 3 5 9 8 7\n",
      " 4 7 6 3 7 9 3 7 7 1 9 1 6 9 5 7 5 0 1 6 6 7 0 7 6 3 5 7 4 0 2 0 7 3 8 1 9\n",
      " 0 8 9 1 8 9 8 8 9 4 3 6 6 9 9 1 1 1 8 2 4 0 1 3 7 7 9 7 9 4 6 2 8 5 3 7 9\n",
      " 0 3 3 8 4 7 7 1 9 7 6 1 1 6 8 4 9 0 3 5 3 0 6 0 3 3 4 0 4 3 7 3 1 8 1 1 4\n",
      " 7 3 5 8 3 9 8 4 4 9 0 4 5 5 3 4 8 3 5 5 8 7 3 2 8 6 2 8 1 0 4 7 7 2 9 7 8\n",
      " 3 6 3 6 6 8 1 9 8 0 9 6 3 5 1 8 3 2 4 7 7 8 9 9 2 7 0 3 9 1 2 2 7 0 9 9 6\n",
      " 8 5 5 3 6 8 9 8 4 5 4 6 3 2 8 7 5 1 8 0 4 6 6 0 4 7 2 8 9 3 3 7 1 5 4 2 7\n",
      " 0 8 8 4 0 0 9 1 3 2 6 0 5 5 6 6 5 3 7 3 5 8 2 9 7 5 0 2 1 1 9 6 6 4 7 1 3\n",
      " 1 0 5 7 5 9 0 4 6 5 8 5 7 6 8 6 3 8 2 2 9 4 3 0 5 0 1]\n"
     ]
    }
   ],
   "source": [
    "from sklearn.linear_model import LogisticRegression\n",
    "predictor = LogisticRegression()\n",
    "predictor.fit(X_train, y_train)\n",
    "y_pred = predictor.predict(X_test)\n",
    "print(y_pred)"
   ]
  },
  {
   "cell_type": "code",
   "execution_count": 17,
   "metadata": {
    "collapsed": false
   },
   "outputs": [
    {
     "data": {
      "text/plain": [
       "0.95833333333333337"
      ]
     },
     "execution_count": 17,
     "metadata": {},
     "output_type": "execute_result"
    }
   ],
   "source": [
    "accuracy_score(y_test, y_pred)"
   ]
  },
  {
   "cell_type": "code",
   "execution_count": 18,
   "metadata": {
    "collapsed": false
   },
   "outputs": [
    {
     "name": "stdout",
     "output_type": "stream",
     "text": [
      "true: 7\n",
      "predicted: 7\n"
     ]
    },
    {
     "data": {
      "image/png": "[encoded data removed]",
      "text/plain": [
       "<matplotlib.figure.Figure at 0xa5662b0>"
      ]
     },
     "metadata": {},
     "output_type": "display_data"
    },
    {
     "name": "stdout",
     "output_type": "stream",
     "text": [
      "true: 8\n",
      "predicted: 5\n"
     ]
    },
    {
     "data": {
      "image/png": "[encoded data removed]",
      "text/plain": [
       "<matplotlib.figure.Figure at 0xa9ffc18>"
      ]
     },
     "metadata": {},
     "output_type": "display_data"
    }
   ],
   "source": [
    "true_sample = X_test[y_test == y_pred][0]\n",
    "print('true:', y_test[y_test == y_pred][0])\n",
    "print('predicted:', y_pred[y_test == y_pred][0])\n",
    "show_digit(true_sample)\n",
    "\n",
    "false_sample = X_test[y_test != y_pred][0]\n",
    "print('true:', y_test[y_test != y_pred][0])\n",
    "print('predicted:', y_pred[y_test != y_pred][0])\n",
    "show_digit(false_sample)"
   ]
  },
  {
   "cell_type": "markdown",
   "metadata": {},
   "source": [
    " ### k-nearest-neighbors classifier\n",
    " <img src=\"./data/knn_classifier.png\" alt=\"Drawing\" style=\"width: 300px;\"/>\n",
    " Для заданной точки алгоритм ищет k ближайших к ней соседей из обучающей выборки, и возвращает класс, который встречался среди этих k точек чаще остальных.  \n",
    " Почитать ещё: https://kevinzakka.github.io/2016/07/13/k-nearest-neighbor/"
   ]
  },
  {
   "cell_type": "code",
   "execution_count": 19,
   "metadata": {
    "collapsed": true
   },
   "outputs": [],
   "source": [
    "from sklearn.neighbors import KNeighborsClassifier\n",
    "predictor = KNeighborsClassifier(n_neighbors=4)\n",
    "predictor.fit(X_train, y_train)\n",
    "y_pred = predictor.predict(X_test)"
   ]
  },
  {
   "cell_type": "code",
   "execution_count": 20,
   "metadata": {
    "collapsed": false
   },
   "outputs": [
    {
     "data": {
      "text/plain": [
       "0.98611111111111116"
      ]
     },
     "execution_count": 20,
     "metadata": {},
     "output_type": "execute_result"
    }
   ],
   "source": [
    "accuracy_score(y_test, y_pred)"
   ]
  },
  {
   "cell_type": "code",
   "execution_count": 21,
   "metadata": {
    "collapsed": false
   },
   "outputs": [
    {
     "name": "stdout",
     "output_type": "stream",
     "text": [
      "true: 7\n",
      "predicted: 7\n"
     ]
    },
    {
     "data": {
      "image/png": "[encoded data removed]",
      "text/plain": [
       "<matplotlib.figure.Figure at 0xaa8e390>"
      ]
     },
     "metadata": {},
     "output_type": "display_data"
    },
    {
     "name": "stdout",
     "output_type": "stream",
     "text": [
      "true: 8\n",
      "predicted: 1\n"
     ]
    },
    {
     "data": {
      "image/png": "[encoded data removed]",
      "text/plain": [
       "<matplotlib.figure.Figure at 0xab2b6a0>"
      ]
     },
     "metadata": {},
     "output_type": "display_data"
    }
   ],
   "source": [
    "true_sample = X_test[y_test == y_pred][0]\n",
    "print('true:', y_test[y_test == y_pred][0])\n",
    "print('predicted:', y_pred[y_test == y_pred][0])\n",
    "show_digit(true_sample)\n",
    "\n",
    "false_sample = X_test[y_test != y_pred][0]\n",
    "print('true:', y_test[y_test != y_pred][0])\n",
    "print('predicted:', y_pred[y_test != y_pred][0])\n",
    "show_digit(false_sample)"
   ]
  },
  {
   "cell_type": "markdown",
   "metadata": {},
   "source": [
    " ### Нейронная сеть\n",
    "  ![LR](./data/220px-Neural_network.svg.png)\n",
    "  Несколько линейных регрессий (нет), объединённых в сеть.  \n",
    "  Почитать ещё: https://ujjwalkarn.me/2016/08/09/quick-intro-neural-networks/"
   ]
  },
  {
   "cell_type": "code",
   "execution_count": 24,
   "metadata": {
    "collapsed": true
   },
   "outputs": [],
   "source": [
    "from sklearn.neural_network import MLPClassifier \n",
    "predictor = MLPClassifier()\n",
    "predictor.fit(X_train, y_train)\n",
    "y_pred = predictor.predict(X_test)"
   ]
  },
  {
   "cell_type": "code",
   "execution_count": 25,
   "metadata": {
    "collapsed": false
   },
   "outputs": [
    {
     "data": {
      "text/plain": [
       "0.97222222222222221"
      ]
     },
     "execution_count": 25,
     "metadata": {},
     "output_type": "execute_result"
    }
   ],
   "source": [
    "accuracy_score(y_test, y_pred)"
   ]
  },
  {
   "cell_type": "code",
   "execution_count": 26,
   "metadata": {
    "collapsed": false
   },
   "outputs": [
    {
     "name": "stdout",
     "output_type": "stream",
     "text": [
      "true: 7\n",
      "predicted: 7\n"
     ]
    },
    {
     "data": {
      "image/png": "[encoded data removed]",
      "text/plain": [
       "<matplotlib.figure.Figure at 0xab2b898>"
      ]
     },
     "metadata": {},
     "output_type": "display_data"
    },
    {
     "name": "stdout",
     "output_type": "stream",
     "text": [
      "true: 8\n",
      "predicted: 5\n"
     ]
    },
    {
     "data": {
      "image/png": "[encoded data removed]",
      "text/plain": [
       "<matplotlib.figure.Figure at 0xae727f0>"
      ]
     },
     "metadata": {},
     "output_type": "display_data"
    }
   ],
   "source": [
    "true_sample = X_test[y_test == y_pred][0]\n",
    "print('true:', y_test[y_test == y_pred][0])\n",
    "print('predicted:', y_pred[y_test == y_pred][0])\n",
    "show_digit(true_sample)\n",
    "\n",
    "false_sample = X_test[y_test != y_pred][0]\n",
    "print('true:', y_test[y_test != y_pred][0])\n",
    "print('predicted:', y_pred[y_test != y_pred][0])\n",
    "show_digit(false_sample)"
   ]
  },
  {
   "cell_type": "markdown",
   "metadata": {},
   "source": [
    "### Деревья\n",
    "<img src=\"./data/F3.large.jpg\" alt=\"Drawing\" style=\"width: 500px;\"/>\n",
    "С помощью статистических методов строится дерево решений (или несколько деревьев). Каждый раз при предсказывании алгоритм проходит дерево от корня до одного из листов и возвращает класс, соответствующий листу.  \n",
    "Почитать ещё: https://sadanand-singh.github.io/posts/treebasedmodels/"
   ]
  },
  {
   "cell_type": "code",
   "execution_count": 27,
   "metadata": {
    "collapsed": true
   },
   "outputs": [],
   "source": [
    "from sklearn.ensemble import GradientBoostingClassifier\n",
    "predictor = GradientBoostingClassifier(n_estimators=5)\n",
    "predictor.fit(X_train, y_train)\n",
    "y_pred = predictor.predict(X_test)"
   ]
  },
  {
   "cell_type": "code",
   "execution_count": 28,
   "metadata": {
    "collapsed": false
   },
   "outputs": [
    {
     "data": {
      "text/plain": [
       "0.86111111111111116"
      ]
     },
     "execution_count": 28,
     "metadata": {},
     "output_type": "execute_result"
    }
   ],
   "source": [
    "accuracy_score(y_test, y_pred)"
   ]
  },
  {
   "cell_type": "code",
   "execution_count": 30,
   "metadata": {
    "collapsed": false
   },
   "outputs": [
    {
     "name": "stdout",
     "output_type": "stream",
     "text": [
      "true: 7\n",
      "predicted: 7\n"
     ]
    },
    {
     "data": {
      "image/png": "[encoded data removed]",
      "text/plain": [
       "<matplotlib.figure.Figure at 0x8d7a780>"
      ]
     },
     "metadata": {},
     "output_type": "display_data"
    },
    {
     "name": "stdout",
     "output_type": "stream",
     "text": [
      "true: 4\n",
      "predicted: 1\n"
     ]
    },
    {
     "data": {
      "image/png": "[encoded data removed]",
      "text/plain": [
       "<matplotlib.figure.Figure at 0x90ba2b0>"
      ]
     },
     "metadata": {},
     "output_type": "display_data"
    }
   ],
   "source": [
    "true_sample = X_test[y_test == y_pred][0]\n",
    "print('true:', y_test[y_test == y_pred][0])\n",
    "print('predicted:', y_pred[y_test == y_pred][0])\n",
    "show_digit(true_sample)\n",
    "\n",
    "false_sample = X_test[y_test != y_pred][0]\n",
    "print('true:', y_test[y_test != y_pred][0])\n",
    "print('predicted:', y_pred[y_test != y_pred][0])\n",
    "show_digit(false_sample)"
   ]
  },
  {
   "cell_type": "markdown",
   "metadata": {},
   "source": [
    "### Кластеризация (KMeans)\n",
    "  <img src=\"./data/kmeans.png\" alt=\"Drawing\" style=\"height: 300px;\"/>\n",
    " Алгоритм ищет K центров кластеров и относит каждую точку к тому кластеру, которому соответствует ближайший из центров.  \n",
    " При этом центры выбираются таким образом, чтобы сумма расстояний от точки до центра соответствующего ей кластера была минимальной\n",
    " Почитать ещё: https://www.datascience.com/blog/introduction-to-k-means-clustering-algorithm-learn-data-science-tutorials"
   ]
  },
  {
   "cell_type": "code",
   "execution_count": 34,
   "metadata": {
    "collapsed": true
   },
   "outputs": [],
   "source": [
    "from sklearn.cluster import KMeans\n",
    "clusterer = KMeans(n_clusters=11)\n",
    "classes = clusterer.fit_predict(digits.data)"
   ]
  },
  {
   "cell_type": "code",
   "execution_count": 36,
   "metadata": {
    "collapsed": false,
    "scrolled": true
   },
   "outputs": [
    {
     "data": {
      "image/png": "[encoded data removed]",
      "text/plain": [
       "<matplotlib.figure.Figure at 0xadfb3c8>"
      ]
     },
     "metadata": {},
     "output_type": "display_data"
    },
    {
     "data": {
      "image/png": "[encoded data removed]",
      "text/plain": [
       "<matplotlib.figure.Figure at 0xb43bf98>"
      ]
     },
     "metadata": {},
     "output_type": "display_data"
    },
    {
     "data": {
      "image/png": "[encoded data removed]",
      "text/plain": [
       "<matplotlib.figure.Figure at 0x44ea6d8>"
      ]
     },
     "metadata": {},
     "output_type": "display_data"
    },
    {
     "data": {
      "image/png": "[encoded data removed]",
      "text/plain": [
       "<matplotlib.figure.Figure at 0x49a8c88>"
      ]
     },
     "metadata": {},
     "output_type": "display_data"
    },
    {
     "data": {
      "image/png": "[encoded data removed]",
      "text/plain": [
       "<matplotlib.figure.Figure at 0xb364358>"
      ]
     },
     "metadata": {},
     "output_type": "display_data"
    },
    {
     "data": {
      "image/png": "[encoded data removed]",
      "text/plain": [
       "<matplotlib.figure.Figure at 0xb21b5c0>"
      ]
     },
     "metadata": {},
     "output_type": "display_data"
    },
    {
     "data": {
      "image/png": "[encoded data removed]",
      "text/plain": [
       "<matplotlib.figure.Figure at 0xabb7c50>"
      ]
     },
     "metadata": {},
     "output_type": "display_data"
    },
    {
     "data": {
      "image/png": "[encoded data removed]",
      "text/plain": [
       "<matplotlib.figure.Figure at 0xb1e7c18>"
      ]
     },
     "metadata": {},
     "output_type": "display_data"
    },
    {
     "data": {
      "image/png": "[encoded data removed]",
      "text/plain": [
       "<matplotlib.figure.Figure at 0xb27c780>"
      ]
     },
     "metadata": {},
     "output_type": "display_data"
    },
    {
     "data": {
      "image/png": "[encoded data removed]",
      "text/plain": [
       "<matplotlib.figure.Figure at 0x8c5d0b8>"
      ]
     },
     "metadata": {},
     "output_type": "display_data"
    },
    {
     "data": {
      "image/png": "[encoded data removed]",
      "text/plain": [
       "<matplotlib.figure.Figure at 0xb39d400>"
      ]
     },
     "metadata": {},
     "output_type": "display_data"
    }
   ],
   "source": [
    "for i in np.unique(classes):\n",
    "    f, axs = plt.subplots(1, 5, sharey=True, figsize=(7, 1))\n",
    "    for i,sample in enumerate(digits.data[classes == i][:5]):\n",
    "        axs[i].matshow(sample.reshape((8, 8)))\n",
    "        axs[i].axis('off')\n",
    "    plt.show()"
   ]
  },
  {
   "cell_type": "markdown",
   "metadata": {},
   "source": [
    "Отрисуем центры кластеров"
   ]
  },
  {
   "cell_type": "code",
   "execution_count": 37,
   "metadata": {
    "collapsed": false,
    "scrolled": true
   },
   "outputs": [
    {
     "data": {
      "image/png": "[encoded data removed]",
      "text/plain": [
       "<matplotlib.figure.Figure at 0xae04160>"
      ]
     },
     "metadata": {},
     "output_type": "display_data"
    },
    {
     "data": {
      "image/png": "[encoded data removed]",
      "text/plain": [
       "<matplotlib.figure.Figure at 0x8d389e8>"
      ]
     },
     "metadata": {},
     "output_type": "display_data"
    },
    {
     "data": {
      "image/png": "[encoded data removed]",
      "text/plain": [
       "<matplotlib.figure.Figure at 0xb40beb8>"
      ]
     },
     "metadata": {},
     "output_type": "display_data"
    },
    {
     "data": {
      "image/png": "[encoded data removed]",
      "text/plain": [
       "<matplotlib.figure.Figure at 0x8e5ad68>"
      ]
     },
     "metadata": {},
     "output_type": "display_data"
    },
    {
     "data": {
      "image/png": "[encoded data removed]",
      "text/plain": [
       "<matplotlib.figure.Figure at 0xb337400>"
      ]
     },
     "metadata": {},
     "output_type": "display_data"
    },
    {
     "data": {
      "image/png": "[encoded data removed]",
      "text/plain": [
       "<matplotlib.figure.Figure at 0xb3db9b0>"
      ]
     },
     "metadata": {},
     "output_type": "display_data"
    },
    {
     "data": {
      "image/png": "[encoded data removed]",
      "text/plain": [
       "<matplotlib.figure.Figure at 0x8c5d6d8>"
      ]
     },
     "metadata": {},
     "output_type": "display_data"
    },
    {
     "data": {
      "image/png": "[encoded data removed]",
      "text/plain": [
       "<matplotlib.figure.Figure at 0xafee780>"
      ]
     },
     "metadata": {},
     "output_type": "display_data"
    },
    {
     "data": {
      "image/png": "[encoded data removed]",
      "text/plain": [
       "<matplotlib.figure.Figure at 0x8d33198>"
      ]
     },
     "metadata": {},
     "output_type": "display_data"
    },
    {
     "data": {
      "image/png": "[encoded data removed]",
      "text/plain": [
       "<matplotlib.figure.Figure at 0xb5facc0>"
      ]
     },
     "metadata": {},
     "output_type": "display_data"
    },
    {
     "data": {
      "image/png": "[encoded data removed]",
      "text/plain": [
       "<matplotlib.figure.Figure at 0xb4daf60>"
      ]
     },
     "metadata": {},
     "output_type": "display_data"
    }
   ],
   "source": [
    "for center in clusterer.cluster_centers_:\n",
    "    f = plt.figure(figsize=(7, 1))\n",
    "    ax = f.add_subplot(111)\n",
    "    ax.matshow(center.reshape(8, 8))\n",
    "    ax.axis('off')\n",
    "    plt.show()"
   ]
  },
  {
   "cell_type": "code",
   "execution_count": null,
   "metadata": {
    "collapsed": true
   },
   "outputs": [],
   "source": []
  }
 ],
 "metadata": {
  "kernelspec": {
   "display_name": "Python 3",
   "language": "python",
   "name": "python3"
  },
  "language_info": {
   "codemirror_mode": {
    "name": "ipython",
    "version": 3
   },
   "file_extension": ".py",
   "mimetype": "text/x-python",
   "name": "python",
   "nbconvert_exporter": "python",
   "pygments_lexer": "ipython3",
   "version": "3.6.0"
  }
 },
 "nbformat": 4,
 "nbformat_minor": 2
}
